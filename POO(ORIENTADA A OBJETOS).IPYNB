{
  "cells": [
    {
      "cell_type": "markdown",
      "metadata": {},
      "source": [
        "# Ejercicios Prácticos: Programación Orientada a Objetos\n",
        "\n",
        "Estos ejercicios muestran cómo crear clases, atributos, métodos y herencia en Python."
      ]
    },
    {
      "cell_type": "markdown",
      "metadata": {},
      "source": [
        "## Ejercicio 1\n",
        "Crea una clase Persona con atributos para nombre y edad, y un método para presentarse."
      ]
    },
    {
      "cell_type": "code",
      "execution_count": null,
      "metadata": {},
      "outputs": [],
      "source": [
        "class Persona:\n",
        "    def __init__(self, nombre, edad):\n",
        "        self.nombre = nombre\n",
        "        self.edad = edad\n",
        "    \n",
        "    def presentarse(self):\n",
        "        return f\"Hola, mi nombre es {self.nombre} y tengo {self.edad} años.\"\n",
        "\n",
        "juan = Persona(\"Juan\", 25)\n",
        "print(juan.presentarse())"
      ]
    },
    {
      "cell_type": "markdown",
      "metadata": {},
      "source": [
        "## Ejercicio 2\n",
        "Extiende la clase Persona con una subclase Estudiante que añade el atributo carrera y sobreescribe el método para presentarse."
      ]
    },
    {
      "cell_type": "code",
      "execution_count": null,
      "metadata": {},
      "outputs": [],
      "source": [
        "class Estudiante(Persona):\n",
        "    def __init__(self, nombre, edad, carrera):\n",
        "        super().__init__(nombre, edad)\n",
        "        self.carrera = carrera\n",
        "    \n",
        "    def presentarse(self):\n",
        "        return f\"Hola, mi nombre es {self.nombre}, tengo {self.edad} años y estudio {self.carrera}.\"\n",
        "\n",
        "ana = Estudiante(\"Ana\", 20, \"Ingeniería\")\n",
        "print(ana.presentarse())"
      ]
    }
  ],
  "metadata": {
    "kernelspec": {
      "display_name": "Python 3",
      "language": "python",
      "name": "python3"
    },
    "language_info": {
      "name": "python",
      "version": "3.x"
    }
  },
  "nbformat": 4,
  "nbformat_minor": 5
}
