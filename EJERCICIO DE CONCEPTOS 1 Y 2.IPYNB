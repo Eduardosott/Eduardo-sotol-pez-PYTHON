{
  "cells": [
    {
      "cell_type": "markdown",
      "metadata": {},
      "source": [
        "# Ejercicios Prácticos\n",
        "\n",
        "## Ejercicio 1\n",
        "Solicita al usuario ingresar su nombre, edad y ciudad de origen y luego muestra un mensaje personalizado con esos datos."
      ]
    },
    {
      "cell_type": "code",
      "execution_count": null,
      "metadata": {},
      "outputs": [],
      "source": [
        "nombre = input(\"¿Cuál es tu nombre? \")\n",
        "edad = input(\"¿Cuál es tu edad? \")\n",
        "ciudad = input(\"¿De qué ciudad eres? \")\n",
        "\n",
        "print(f\"¡Hola {nombre}! Veo que tienes {edad} años y eres de {ciudad}.\")"
      ]
    },
    {
      "cell_type": "markdown",
      "metadata": {},
      "source": [
        "## Ejercicio 2\n",
        "Solicita dos números al usuario y muestra la suma, resta, multiplicación y división de esos números."
      ]
    },
    {
      "cell_type": "code",
      "execution_count": null,
      "metadata": {},
      "outputs": [],
      "source": [
        "num1 = float(input(\"Introduce el primer número: \"))\n",
        "num2 = float(input(\"Introduce el segundo número: \"))\n",
        "\n",
        "print(f\"Suma: {num1 + num2}\")\n",
        "print(f\"Resta: {num1 - num2}\")\n",
        "print(f\"Multiplicación: {num1 * num2}\")\n",
        "print(f\"División: {num1 / num2}\")"
      ]
    }
  ],
  "metadata": {
    "kernelspec": {
      "display_name": "Python 3",
      "language": "python",
      "name": "python3"
    },
    "language_info": {
      "name": "python",
      "version": "3.x"
    }
  },
  "nbformat": 4,
  "nbformat_minor": 5
}
