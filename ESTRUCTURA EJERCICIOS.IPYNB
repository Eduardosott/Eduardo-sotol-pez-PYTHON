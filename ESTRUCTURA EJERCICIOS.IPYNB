{
  "cells": [
    {
      "cell_type": "markdown",
      "metadata": {},
      "source": [
        "# Ejercicios Prácticos: Estructuras de datos y cadenas\n",
        "\n",
        "Estos ejercicios cubren listas, diccionarios, conjuntos y manipulación básica de cadenas."
      ]
    },
    {
      "cell_type": "markdown",
      "metadata": {},
      "source": [
        "## Ejercicio 1\n",
        "Crea una lista con tus películas favoritas y muestra la tercera película en la lista."
      ]
    },
    {
      "cell_type": "code",
      "execution_count": null,
      "metadata": {},
      "outputs": [],
      "source": [
        "peliculas = [\"El Padrino\", \"Matrix\", \"Forrest Gump\"]\n",
        "print(f\"La tercera película es: {peliculas[2]}\")"
      ]
    },
    {
      "cell_type": "markdown",
      "metadata": {},
      "source": [
        "## Ejercicio 2\n",
        "Dado un diccionario que guarda las calificaciones de un estudiante, calcula el promedio."
      ]
    },
    {
      "cell_type": "code",
      "execution_count": null,
      "metadata": {},
      "outputs": [],
      "source": [
        "calificaciones = {\n",
        "    \"matemáticas\": 90,\n",
        "    \"historia\": 85,\n",
        "    \"física\": 78,\n",
        "    \"química\": 93\n",
        "}\n",
        "promedio = sum(calificaciones.values()) / len(calificaciones)\n",
        "print(f\"El promedio es: {promedio}\")"
      ]
    },
    {
      "cell_type": "markdown",
      "metadata": {},
      "source": [
        "## Ejercicio 3\n",
        "Crea un conjunto con tus hobbies y agrega uno nuevo."
      ]
    },
    {
      "cell_type": "code",
      "execution_count": null,
      "metadata": {},
      "outputs": [],
      "source": [
        "hobbies = {\"leer\", \"correr\", \"programar\"}\n",
        "hobbies.add(\"tocar guitarra\")\n",
        "print(f\"Mis hobbies son: {hobbies}\")"
      ]
    },
    {
      "cell_type": "markdown",
      "metadata": {},
      "source": [
        "---\n",
        "\n",
        "## Ejercicio 4\n",
        "Dada una cadena con palabras separadas por comas, conviértela en una lista y luego únela nuevamente en una cadena separada por espacios."
      ]
    },
    {
      "cell_type": "code",
      "execution_count": null,
      "metadata": {},
      "outputs": [],
      "source": [
        "cadena = \"manzana,banana,cereza\"\n",
        "lista = cadena.split(\",\")\n",
        "print(f\"Lista: {lista}\")\n",
        "cadena_espacios = \" \".join(lista)\n",
        "print(f\"Cadena con espacios: {cadena_espacios}\")"
      ]
    },
    {
      "cell_type": "markdown",
      "metadata": {},
      "source": [
        "## Ejercicio 5\n",
        "Convierte el mensaje \"¡Hola Mundo!\" a bytes y luego decodifícalo de nuevo a una cadena."
      ]
    },
    {
      "cell_type": "code",
      "execution_count": null,
      "metadata": {},
      "outputs": [],
      "source": [
        "mensaje = \"¡Hola Mundo!\"\n",
        "mensaje_bytes = mensaje.encode('utf-8')\n",
        "print(f\"Mensaje en bytes: {mensaje_bytes}\")\n",
        "mensaje_decodificado = mensaje_bytes.decode('utf-8')\n",
        "print(f\"Mensaje decodificado: {mensaje_decodificado}\")"
      ]
    },
    {
      "cell_type": "markdown",
      "metadata": {},
      "source": [
        "## Ejemplos adicionales de manipulación de cadenas\n",
        "\n",
        "```python\n",
        "saludo = \"Hola Mundo\"\n",
        "saludo_modificado = saludo.replace(\"Mundo\", \"Python\")\n",
        "print(saludo_modificado)  # Hola Python\n",
        "\n",
        "texto = \"Python\"\n",
        "print(texto.upper())  # PYTHON\n",
        "print(texto.lower())  # python\n",
        "\n",
        "bytes_texto = texto.encode('utf-8')\n",
        "print(bytes_texto)  # b'Python'\n",
        "\n",
        "texto_decodificado = bytes_texto.decode('utf-8')\n",
        "print(texto_decodificado)  # Python\n",
        "```"
      ]
    },
    {
      "cell_type": "markdown",
      "metadata": {},
      "source": [
        "Las estructuras de datos son esenciales en programación para organizar la información de manera efectiva, permitiendo operaciones más rápidas y eficientes sobre ella."
      ]
    }
  ],
  "metadata": {
    "kernelspec": {
      "display_name": "Python 3",
      "language": "python",
      "name": "python3"
    },
    "language_info": {
      "name": "python",
      "version": "3.x"
    }
  },
  "nbformat": 4,
  "nbformat_minor": 5
}
