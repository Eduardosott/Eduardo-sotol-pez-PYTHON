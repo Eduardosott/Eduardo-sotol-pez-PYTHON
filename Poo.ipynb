{
  "cells": [
    {
      "cell_type": "markdown",
      "metadata": {},
      "source": [
        "# Ejercicios Prácticos: \n",
        "\n",
        "Estos ejercicios son para crear clases, atributos, métodos, hrencia, etc"
      ]
    },
    {
      "cell_type": "markdown",
      "metadata": {},
      "source": [
        "## Ejercicio 1\n",
        ""
      ]
    },
    {
      "cell_type": "code",
      "execution_count": null,
      "metadata": {},
      "outputs": [],
      "source": [
        "class Persona:\n",
        "    def __init__(self, nombre, edad):\n",
        "        self.nombre = nombre\n",
        "        self.edad = edad\n",
        "    \n",
        "    def presentarse(self):\n",
        "        return f\"Hola, mi nombre es {self.nombre} y tengo {self.edad} años.\"\n",
        "\n",
        "juan = Persona(\"Juan\", 25)\n",
        "print(juan.presentarse())"
      ]
    },
    {
      "cell_type": "markdown",
      "metadata": {},
      "source": [
        "## Ejercicio 2\n",
        ""
      ]
    },
    {
      "cell_type": "code",
      "execution_count": null,
      "metadata": {},
      "outputs": [],
      "source": [
        "class Estudiante(Persona):\n",
        "    def __init__(self, nombre, edad, carrera):\n",
        "        super().__init__(nombre, edad)\n",
        "        self.carrera = carrera\n",
        "    \n",
        "    def presentarse(self):\n",
        "        return f\"Hola, mi nombre es {self.nombre}, tengo {self.edad} años y estudio {self.carrera}.\"\n",
        "\n",
        "ana = Estudiante(\"Ana\", 20, \"Ingeniería\")\n",
        "print(ana.presentarse())"
      ]
    }
  ],
  "metadata": {
    "kernelspec": {
      "display_name": "Python 3",
      "language": "python",
      "name": "python3"
    },
    "language_info": {
      "name": "python",
      "version": "3.x"
    }
  },
  "nbformat": 4,
  "nbformat_minor": 5
}
