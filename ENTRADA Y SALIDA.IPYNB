{
  "cells": [
    {
      "cell_type": "markdown",
      "metadata": {},
      "source": [
        "# Ejercicios Prácticos: Lectura y escritura de archivos\n",
        "\n",
        "Aprender a manejar archivos es fundamental para interactuar con datos almacenados de forma persistente."
      ]
    },
    {
      "cell_type": "markdown",
      "metadata": {},
      "source": [
        "## Ejercicio 1\n",
        "Crea un programa que escriba una lista de tareas en un archivo y luego lo lea y muestre en pantalla."
      ]
    },
    {
      "cell_type": "code",
      "execution_count": null,
      "metadata": {},
      "outputs": [],
      "source": [
        "tareas = [\"Comprar leche\", \"Estudiar Python\", \"Hacer ejercicio\"]\n",
        "\n",
        "with open(\"tareas.txt\", \"w\") as archivo:\n",
        "    for tarea in tareas:\n",
        "        archivo.write(tarea + \"\\n\")\n",
        "\n",
        "with open(\"tareas.txt\", \"r\") as archivo:\n",
        "    lineas = archivo.readlines()\n",
        "\n",
        "print(\"Lista de tareas:\")\n",
        "for linea in lineas:\n",
        "    print(linea.strip())"
      ]
    },
    {
      "cell_type": "markdown",
      "metadata": {},
      "source": [
        "## Ejercicio 2\n",
        "Modifica el programa anterior para que el usuario pueda añadir una nueva tarea al archivo."
      ]
    },
    {
      "cell_type": "code",
      "execution_count": null,
      "metadata": {},
      "outputs": [],
      "source": [
        "nueva_tarea = input(\"Introduce una nueva tarea: \")\n",
        "\n",
        "with open(\"tareas.txt\", \"a\") as archivo:\n",
        "    archivo.write(nueva_tarea + \"\\n\")\n",
        "\n",
        "with open(\"tareas.txt\", \"r\") as archivo:\n",
        "    lineas = archivo.readlines()\n",
        "\n",
        "print(\"Lista actualizada de tareas:\")\n",
        "for linea in lineas:\n",
        "    print(linea.strip())"
      ]
    }
  ],
  "metadata": {
    "kernelspec": {
      "display_name": "Python 3",
      "language": "python",
      "name": "python3"
    },
    "language_info": {
      "name": "python",
      "version": "3.x"
    }
  },
  "nbformat": 4,
  "nbformat_minor": 5
}
