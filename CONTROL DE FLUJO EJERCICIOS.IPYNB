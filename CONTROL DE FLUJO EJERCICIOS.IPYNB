{
  "cells": [
    {
      "cell_type": "markdown",
      "metadata": {},
      "source": [
        "# Ejercicios Prácticos: Control de flujo y ciclos\n",
        "\n",
        
      ]
    },
    {
      "cell_type": "markdown",
      "metadata": {},
      "source": [
        "## Ejercicio 1: Número par o impar\n",
        "Programa que pide al usuario ingresar un número y muestra si es par o impar."
      ]
    },
    {
      "cell_type": "code",
      "execution_count": null,
      "metadata": {},
      "outputs": [],
      "source": [
        "numero = int(input(\"Introduce un número: \"))\n",
        "if numero % 2 == 0:\n",
        "    print(\"El número es par.\")\n",
        "else:\n",
        "    print(\"El número es impar.\")"
      ]
    },
    {
      "cell_type": "markdown",
      "metadata": {},
      "source": [
        "## Ejercicio 2: Serie Fibonacci\n",
        "Programa que imprime los primeros 10 números de la serie Fibonacci."
      ]
    },
    {
      "cell_type": "code",
      "execution_count": null,
      "metadata": {},
      "outputs": [],
      "source": [
        "a, b = 0, 1\n",
        "for i in range(10):\n",
        "    print(a)\n",
        "    a, b = b, a + b"
      ]
    },
    {
      "cell_type": "markdown",
      "metadata": {},
      "source": [
        "## Ejercicio 3: Suma de 1 a n\n",
        "Programa que pide al usuario un número n y muestra la suma de todos los números del 1 al n."
      ]
    },
    {
      "cell_type": "code",
      "execution_count": null,
      "metadata": {},
      "outputs": [],
      "source": [
        "n = int(input(\"Introduce un número: \"))\n",
        "suma = 0\n",
        "for i in range(1, n + 1):\n",
        "    suma += i\n",
        "print(f\"La suma de los números del 1 al {n} es: {suma}\")"
      ]
    },
    {
      "cell_type": "markdown",
      "metadata": {},
      "source": [
        "Con estos conceptos, los estudiantes aprenderán a tomar decisiones en sus programas y a repetir acciones de manera eficiente. Estas estructuras de control de flujo son fundamentales para cualquier tipo de desarrollo y son ampliamente utilizadas en programación."
      ]
    }
  ],
  "metadata": {
    "kernelspec": {
      "display_name": "Python 3",
      "language": "python",
      "name": "python3"
    },
    "language_info": {
      "name": "python",
      "version": "3.x"
    }
  },
  "nbformat": 4,
  "nbformat_minor": 5
}
