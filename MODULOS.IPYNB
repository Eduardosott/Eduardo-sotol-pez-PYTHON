{
 "cells": [
  {
   "cell_type": "markdown",
   "metadata": {},
   "source": [
    "# Ejercicios Prácticos: Módulos y Paquetes en Python"
   ]
  },
  {
   "cell_type": "markdown",
   "metadata": {},
   "source": [
    "## Ejercicio práctico 1: Módulo de cálculos geométricos\n",
    "\n",
    "Primero, vamos a crear el archivo `calculos.py`:"
   ]
  },
  {
   "cell_type": "code",
   "execution_count": null,
   "metadata": {},
   "outputs": [],
   "source": [
    "# Crear el archivo calculos.py\n",
    "%%writefile calculos.py\n",
    "def area_rectangulo(largo, ancho):\n",
    "    return largo * ancho\n",
    "\n",
    "def area_circulo(radio):\n",
    "    import math\n",
    "    return math.pi * radio * radio"
   ]
  },
  {
   "cell_type": "markdown",
   "metadata": {},
   "source": [
    "Ahora, importamos ese módulo y utilizamos sus funciones:"
   ]
  },
  {
   "cell_type": "code",
   "execution_count": null,
   "metadata": {},
   "outputs": [],
   "source": [
    "# Importar y usar el módulo creado\n",
    "from calculos import area_rectangulo, area_circulo\n",
    "\n",
    "print(area_rectangulo(5, 3))  # Imprimirá 15\n",
    "print(area_circulo(7))        # Imprimirá aproximadamente 153.93804002589985"
   ]
  },
  {
   "cell_type": "markdown",
   "metadata": {},
   "source": [
    "## Ejercicio práctico 2: Paquete de matemáticas\n",
    "\n",
    "Vamos a crear un paquete llamado `matematicas` con módulos separados para operaciones básicas y avanzadas.\n",
    "\n",
    "Primero, creamos la estructura de directorios y archivos:"
   ]
  },
  {
   "cell_type": "code",
   "execution_count": null,
   "metadata": {},
   "outputs": [],
   "source": [
    "# Crear la estructura del paquete\n",
    "import os\n",
    "\n",
    "# Crear directorio del paquete si no existe\n",
    "if not os.path.exists('matematicas'):\n",
    "    os.makedirs('matematicas')\n",
    "\n",
    "print(\"Directorio del paquete creado.\")"
   ]
  },
  {
   "cell_type": "markdown",
   "metadata": {},
   "source": [
    "### Archivo: matematicas/__init__.py"
   ]
  },
  {
   "cell_type": "code",
   "execution_count": null,
   "metadata": {},
   "outputs": [],
   "source": [
    "%%writefile matematicas/__init__.py\n",
    "# Este archivo permite que Python reconozca el directorio como un paquete\n",
    "print(\"Paquete de matemáticas importado\")"
   ]
  },
  {
   "cell_type": "markdown",
   "metadata": {},
   "source": [
    "### Archivo: matematicas/operaciones_basicas.py"
   ]
  },
  {
   "cell_type": "code",
   "execution_count": null,
   "metadata": {},
   "outputs": [],
   "source": [
    "%%writefile matematicas/operaciones_basicas.py\n",
    "def suma(a, b):\n",
    "    return a + b\n",
    "\n",
    "def resta(a, b):\n",
    "    return a - b\n",
    "\n",
    "def multiplicacion(a, b):\n",
    "    return a * b\n",
    "\n",
    "def division(a, b):\n",
    "    if b == 0:\n",
    "        raise ValueError(\"No se puede dividir por cero\")\n",
    "    return a / b"
   ]
  },
  {
   "cell_type": "markdown",
   "metadata": {},
   "source": [
    "### Archivo: matematicas/operaciones_avanzadas.py"
   ]
  },
  {
   "cell_type": "code",
   "execution_count": null,
   "metadata": {},
   "outputs": [],
   "source": [
    "%%writefile matematicas/operaciones_avanzadas.py\n",
    "import math\n",
    "\n",
    "def potencia(base, exponente):\n",
    "    return base ** exponente\n",
    "\n",
    "def raiz_cuadrada(numero):\n",
    "    if numero < 0:\n",
    "        raise ValueError(\"No se puede calcular la raíz cuadrada de un número negativo\")\n",
    "    return math.sqrt(numero)\n",
    "\n",
    "def logaritmo(numero, base=math.e):\n",
    "    if numero <= 0 or (base <= 0 or base == 1):\n",
    "        raise ValueError(\"Valores inválidos para logaritmo\")\n",
    "    return math.log(numero, base)"
   ]
  },
  {
   "cell_type": "markdown",
   "metadata": {},
   "source": [
    "### Uso del paquete matemáticas\n",
    "\n",
    "Ahora que hemos creado todos los archivos físicamente, podemos importar y usar el paquete:"
   ]
  },
  {
   "cell_type": "code",
   "execution_count": null,
   "metadata": {},
   "outputs": [],
   "source": [
    "# Importando y usando funciones del paquete matemáticas\n",
    "from matematicas.operaciones_basicas import suma, division\n",
    "from matematicas.operaciones_avanzadas import potencia, raiz_cuadrada\n",
    "\n",
    "# Usando operaciones básicas\n",
    "print(f\"Suma: {suma(10, 5)}\")           # Imprimirá: Suma: 15\n",
    "print(f\"División: {division(10, 2)}\")    # Imprimirá: División: 5.0\n",
    "\n",
    "# Usando operaciones avanzadas\n",
    "print(f\"Potencia: {potencia(2, 3)}\")            # Imprimirá: Potencia: 8\n",
    "print(f\"Raíz cuadrada: {raiz_cuadrada(16)}\")    # Imprimirá: Raíz cuadrada: 4.0"
   ]
  },
  {
   "cell_type": "markdown",
   "metadata": {},
   "source": [
    "### Importación alternativa"
   ]
  },
  {
   "cell_type": "code",
   "execution_count": null,
   "metadata": {},
   "outputs": [],
   "source": [
    "# Importación alternativa\n",
    "import matematicas.operaciones_basicas as basic\n",
    "import matematicas.operaciones_avanzadas as advanced\n",
    "\n",
    "print(f\"Multiplicación: {basic.multiplicacion(3, 4)}\")  # Imprimirá: Multiplicación: 12\n",
    "print(f\"Logaritmo: {advanced.logaritmo(10, 10)}\")       # Imprimirá: Logaritmo: 1.0"
   ]
  },
  {
   "cell_type": "markdown",
   "metadata": {},
   "source": [
    "### Ejemplos adicionales de importación\n",
    "\n",
    "A continuación se muestran ejemplos adicionales de sintaxis de importación. Estos son solo ejemplos y no ejecutables sin crear los archivos correspondientes."
   ]
  },
  {
   "cell_type": "code",
   "execution_count": null,
   "metadata": {},
   "outputs": [],
   "source": [
    "# Ejemplo (no ejecutable sin crear los archivos)\n",
    "# import operaciones as ops\n",
    "# from operaciones import suma as add\n",
    "\n",
    "# Con estas importaciones podríamos usar:\n",
    "# ops.alguna_funcion()\n",
    "# add(5, 3)  # Esto llamaría a la función suma()"
   ]
  },
  {
   "cell_type": "code",
   "execution_count": null,
   "metadata": {},
   "outputs": [],
   "source": [
    "# Ejemplo (no ejecutable sin crear los archivos)\n",
    "# from mipaquete import modulo1\n",
    "\n",
    "# Donde la estructura sería:\n",
    "# mipaquete/\n",
    "#     __init__.py\n",
    "#     modulo1.py\n",
    "#     modulo2.py"
   ]
  },
  {
   "cell_type": "markdown",
   "metadata": {},
   "source": [
    "## Limpieza (opcional)\n",
    "\n",
    "Si deseas eliminar los archivos creados para este ejemplo:"
   ]
  },
  {
   "cell_type": "code",
   "execution_count": null,
   "metadata": {},
   "outputs": [],
   "source": [
    "# Descomenta y ejecuta este código solo si deseas eliminar los archivos creados\n",
    "'''\n",
    "import shutil\n",
    "import os\n",
    "\n",
    "# Eliminar el archivo calculos.py\n",
    "if os.path.exists('calculos.py'):\n",
    "    os.remove('calculos.py')\n",
    "    print(\"Archivo calculos.py eliminado.\")\n",
    "\n",
    "# Eliminar el directorio matematicas y su contenido\n",
    "if os.path.exists('matematicas'):\n",
    "    shutil.rmtree('matematicas')\n",
    "    print(\"Directorio matematicas eliminado.\")\n",
    "'''"
   ]
  }
 ],
 "metadata": {
  "kernelspec": {
   "display_name": "Python 3",
   "language": "python",
   "name": "python3"
  },
  "language_info": {
   "codemirror_mode": {
    "name": "ipython",
    "version": 3
   },
   "file_extension": ".py",
   "mimetype": "text/x-python",
   "name": "python",
   "nbconvert_exporter": "python",
   "pygments_lexer": "ipython3",
   "version": "3.8.5"
  }
 },
 "nbformat": 4,
 "nbformat_minor": 4
}