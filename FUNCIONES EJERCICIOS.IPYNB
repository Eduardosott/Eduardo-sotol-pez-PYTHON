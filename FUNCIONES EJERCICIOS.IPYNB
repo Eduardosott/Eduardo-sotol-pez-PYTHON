{
  "cells": [
    {
      "cell_type": "markdown",
      "metadata": {},
      "source": [
        "# Ejercicios Prácticos: Funciones en Python\n",
        "\n",
        "Las funciones son esenciales para organizar y reutilizar código."
      ]
    },
    {
      "cell_type": "markdown",
      "metadata": {},
      "source": [
        "## Ejercicio 1\n",
        "Crea una función que reciba una lista de números y retorne el mayor de ellos."
      ]
    },
    {
      "cell_type": "code",
      "execution_count": null,
      "metadata": {},
      "outputs": [],
      "source": [
        "def numero_mayor(lista):\n",
        "    return max(lista)\n",
        "\n",
        "numeros = [3, 1, 8, 4, 6]\n",
        "print(f\"El número mayor es: {numero_mayor(numeros)}\")  # Imprime 8"
      ]
    },
    {
      "cell_type": "markdown",
      "metadata": {},
      "source": [
        "## Ejercicio 2\n",
        "Crea una función que convierta grados Celsius a Fahrenheit."
      ]
    },
    {
      "cell_type": "code",
      "execution_count": null,
      "metadata": {},
      "outputs": [],
      "source": [
        "def celsius_a_fahrenheit(celsius):\n",
        "    return (celsius * 9/5) + 32\n",
        "\n",
        "grados_c = 25\n",
        "print(f\"{grados_c}°C son {celsius_a_fahrenheit(grados_c)}°F\")  # Imprime 77.0"
      ]
    },
    {
      "cell_type": "markdown",
      "metadata": {},
      "source": [
        "## Ejercicio 3\n",
        "Usa una función lambda para calcular el área de un rectángulo."
      ]
    },
    {
      "cell_type": "code",
      "execution_count": null,
      "metadata": {},
      "outputs": [],
      "source": [
        "area_rectangulo = lambda base, altura: base * altura\n",
        "print(f\"Área del rectángulo: {area_rectangulo(5, 3)}\")  # Imprime 15"
      ]
    },
    {
      "cell_type": "markdown",
      "metadata": {},
      "source": [
        "Las funciones son una herramienta esencial en programación para organizar y reutilizar el código, y son especialmente útiles a medida que los proyectos crecen en tamaño y complejidad."
      ]
    }
  ],
  "metadata": {
    "kernelspec": {
      "display_name": "Python 3",
      "language": "python",
      "name": "python3"
    },
    "language_info": {
      "name": "python",
      "version": "3.x"
    }
  },
  "nbformat": 4,
  "nbformat_minor": 5
}
