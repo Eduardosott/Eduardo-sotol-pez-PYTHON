{
  "cells": [
    {
      "cell_type": "markdown",
      "metadata": {},
      "source": [
        "# Ejercicios Prácticos: Manejo de excepciones\n",
        "\n",
        "El manejo adecuado de excepciones es esencial para desarrollar aplicaciones robustas y resistentes a errores."
      ]
    },
    {
      "cell_type": "markdown",
      "metadata": {},
      "source": [
        "## Ejercicio 1\n",
        "Escribe un programa que solicite al usuario dos números y muestre la división de ambos, manejando posibles errores."
      ]
    },
    {
      "cell_type": "code",
      "execution_count": null,
      "metadata": {},
      "outputs": [],
      "source": [
        "try:\n",
        "    num1 = float(input(\"Introduce el primer número: \"))\n",
        "    num2 = float(input(\"Introduce el segundo número: \"))\n",
        "    resultado = num1 / num2\n",
        "    print(f\"El resultado es: {resultado}\")\n",
        "except ZeroDivisionError:\n",
        "    print(\"No puedes dividir por cero.\")\n",
        "except ValueError:\n",
        "    print(\"Debes ingresar números válidos.\")"
      ]
    },
    {
      "cell_type": "markdown",
      "metadata": {},
      "source": [
        "## Ejercicio 2\n",
        "Escribe un programa que intente abrir un archivo que no existe y maneje el error mostrando un mensaje personalizado al usuario."
      ]
    },
    {
      "cell_type": "code",
      "execution_count": null,
      "metadata": {},
      "outputs": [],
      "source": [
        "try:\n",
        "    f = open(\"archivo_inexistente.txt\", \"r\")\n",
        "except FileNotFoundError:\n",
        "    print(\"Error: No se pudo abrir el archivo porque no existe.\")\n",
        "else:\n",
        "    # Aquí podrías procesar el archivo si se abre correctamente\n",
        "    print(\"Archivo abierto correctamente.\")\n",
        "    f.close()"
      ]
    }
  ],
  "metadata": {
    "kernelspec": {
      "display_name": "Python 3",
      "language": "python",
      "name": "python3"
    },
    "language_info": {
      "name": "python",
      "version": "3.x"
    }
  },
  "nbformat": 4,
  "nbformat_minor": 5
}
